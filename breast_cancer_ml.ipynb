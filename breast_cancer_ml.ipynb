{
 "cells": [
  {
   "cell_type": "markdown",
   "metadata": {},
   "source": [
    "# Breast Cancer Classification with RF, SVM, and CNN\n",
    "\n",
    "This notebook implements classification on the Breast Cancer dataset using Random Forest (RF), Support Vector Machine (SVM), and Convolutional Neural Network (CNN) \n",
    " It includes:\n",
    "- Data loading and exploration\n",
    "- Preprocessing (scaling, impact evaluation)\n",
    "- Classification with multiple parameter settings\n",
    "- Holdout and cross-validation with multiple metrics (accuracy, F1, ROC-AUC, precision, recall)\n",
    "- Visualizations (classifier comparison, runtime analysis)\n",
    "- Detailed analysis of results\n"
   ]
  },
  {
   "cell_type": "code",
   "execution_count": 1,
   "metadata": {},
   "outputs": [
    {
     "name": "stderr",
     "output_type": "stream",
     "text": [
      "2025-04-27 21:02:22.062666: I tensorflow/core/platform/cpu_feature_guard.cc:210] This TensorFlow binary is optimized to use available CPU instructions in performance-critical operations.\n",
      "To enable the following instructions: AVX2 FMA, in other operations, rebuild TensorFlow with the appropriate compiler flags.\n"
     ]
    }
   ],
   "source": [
    "# Import necessary libraries\n",
    "import pandas as pd\n",
    "import numpy as np\n",
    "from sklearn.ensemble import RandomForestClassifier\n",
    "from sklearn.svm import SVC\n",
    "from sklearn.metrics import accuracy_score, f1_score, roc_auc_score, precision_score, recall_score\n",
    "from sklearn.model_selection import train_test_split, cross_val_score, KFold\n",
    "from sklearn.preprocessing import StandardScaler\n",
    "from tensorflow.keras.models import Sequential\n",
    "from tensorflow.keras.layers import Conv1D, Dense, Flatten, Dropout\n",
    "import os\n",
    "import time\n",
    "import matplotlib.pyplot as plt\n",
    "import seaborn as sns\n",
    "\n",
    "# Set random seed for reproducibility\n",
    "np.random.seed(42)"
   ]
  },
  {
   "cell_type": "markdown",
   "metadata": {},
   "source": [
    "## Step 1: Data Loading and Exploration\n",
    "\n",
    "Load the Breast Cancer dataset and explore its structure, columns, and class distribution to understand its properties (285 training samples, 30 features, binary classification)."
   ]
  },
  {
   "cell_type": "code",
   "execution_count": 2,
   "metadata": {},
   "outputs": [
    {
     "name": "stdout",
     "output_type": "stream",
     "text": [
      "Files in 'BreastCancer' folder:\n",
      "['breast-cancer-diagnostic.shuf.sol.ex.csv', 'test_predictions.csv', 'breast-cancer-diagnostic.shuf.tes.csv', 'breast-cancer-diagnostic.shuf.lrn.csv']\n",
      "\n",
      "First few rows of the training dataset:\n",
      "         ID  class  radiusMean   textureMean   perimeterMean   areaMean  \\\n",
      "0    886452   True       13.96         17.05           91.43      602.4   \n",
      "1  84348301   True       11.42         20.38           77.58      386.1   \n",
      "2   9012795   True       21.37         15.10          141.30     1386.0   \n",
      "3    894326   True       18.22         18.87          118.70     1027.0   \n",
      "4    867387  False       15.71         13.93          102.00      761.7   \n",
      "\n",
      "    smoothnessMean   compactnessMean   concavityMean   concavePointsMean  ...  \\\n",
      "0          0.10960           0.12790         0.09789             0.05246  ...   \n",
      "1          0.14250           0.28390         0.24140             0.10520  ...   \n",
      "2          0.10010           0.15150         0.19320             0.12550  ...   \n",
      "3          0.09746           0.11170         0.11300             0.07950  ...   \n",
      "4          0.09462           0.09462         0.07135             0.05933  ...   \n",
      "\n",
      "    radiusWorst   textureWorst   perimeterWorst   areaWorst   smoothnessWorst  \\\n",
      "0         16.39          22.07           108.10       826.0            0.1512   \n",
      "1         14.91          26.50            98.87       567.7            0.2098   \n",
      "2         22.69          21.84           152.10      1535.0            0.1192   \n",
      "3         21.84          25.00           140.90      1485.0            0.1434   \n",
      "4         17.50          19.25           114.30       922.8            0.1223   \n",
      "\n",
      "    compactnessWorst   concavityWorst   concavePointsWorst   symmetryWorst  \\\n",
      "0             0.3262           0.3209               0.1374          0.3068   \n",
      "1             0.8663           0.6869               0.2575          0.6638   \n",
      "2             0.2840           0.4024               0.1966          0.2730   \n",
      "3             0.2763           0.3853               0.1776          0.2812   \n",
      "4             0.1949           0.1709               0.1374          0.2723   \n",
      "\n",
      "    fractalDimensionWorst  \n",
      "0                 0.07957  \n",
      "1                 0.17300  \n",
      "2                 0.08666  \n",
      "3                 0.08198  \n",
      "4                 0.07071  \n",
      "\n",
      "[5 rows x 32 columns]\n",
      "\n",
      "Training Dataset Columns:\n",
      "Index(['ID', 'class', 'radiusMean', ' textureMean', ' perimeterMean',\n",
      "       ' areaMean', ' smoothnessMean', ' compactnessMean', ' concavityMean',\n",
      "       ' concavePointsMean', ' symmetryMean', ' fractalDimensionMean',\n",
      "       ' radiusStdErr', ' textureStdErr', ' perimeterStdErr', ' areaStdErr',\n",
      "       ' smoothnessStdErr', ' compactnessStdErr', ' concavityStdErr',\n",
      "       ' concavePointsStdErr', ' symmetryStdErr', ' fractalDimensionStdErr',\n",
      "       ' radiusWorst', ' textureWorst', ' perimeterWorst', ' areaWorst',\n",
      "       ' smoothnessWorst', ' compactnessWorst', ' concavityWorst',\n",
      "       ' concavePointsWorst', ' symmetryWorst', ' fractalDimensionWorst'],\n",
      "      dtype='object')\n",
      "\n",
      "Training Dataset Info:\n",
      "<class 'pandas.core.frame.DataFrame'>\n",
      "RangeIndex: 285 entries, 0 to 284\n",
      "Data columns (total 32 columns):\n",
      " #   Column                   Non-Null Count  Dtype  \n",
      "---  ------                   --------------  -----  \n",
      " 0   ID                       285 non-null    int64  \n",
      " 1   class                    285 non-null    bool   \n",
      " 2   radiusMean               285 non-null    float64\n",
      " 3    textureMean             285 non-null    float64\n",
      " 4    perimeterMean           285 non-null    float64\n",
      " 5    areaMean                285 non-null    float64\n",
      " 6    smoothnessMean          285 non-null    float64\n",
      " 7    compactnessMean         285 non-null    float64\n",
      " 8    concavityMean           285 non-null    float64\n",
      " 9    concavePointsMean       285 non-null    float64\n",
      " 10   symmetryMean            285 non-null    float64\n",
      " 11   fractalDimensionMean    285 non-null    float64\n",
      " 12   radiusStdErr            285 non-null    float64\n",
      " 13   textureStdErr           285 non-null    float64\n",
      " 14   perimeterStdErr         285 non-null    float64\n",
      " 15   areaStdErr              285 non-null    float64\n",
      " 16   smoothnessStdErr        285 non-null    float64\n",
      " 17   compactnessStdErr       285 non-null    float64\n",
      " 18   concavityStdErr         285 non-null    float64\n",
      " 19   concavePointsStdErr     285 non-null    float64\n",
      " 20   symmetryStdErr          285 non-null    float64\n",
      " 21   fractalDimensionStdErr  285 non-null    float64\n",
      " 22   radiusWorst             285 non-null    float64\n",
      " 23   textureWorst            285 non-null    float64\n",
      " 24   perimeterWorst          285 non-null    float64\n",
      " 25   areaWorst               285 non-null    float64\n",
      " 26   smoothnessWorst         285 non-null    float64\n",
      " 27   compactnessWorst        285 non-null    float64\n",
      " 28   concavityWorst          285 non-null    float64\n",
      " 29   concavePointsWorst      285 non-null    float64\n",
      " 30   symmetryWorst           285 non-null    float64\n",
      " 31   fractalDimensionWorst   285 non-null    float64\n",
      "dtypes: bool(1), float64(30), int64(1)\n",
      "memory usage: 69.4 KB\n",
      "None\n",
      "\n",
      "First few rows of the test dataset:\n",
      "          ID  radiusMean   textureMean   perimeterMean   areaMean  \\\n",
      "0    9012568       15.19         13.21           97.65      711.8   \n",
      "1     844981       13.00         21.82           87.50      519.8   \n",
      "2    8813129       13.27         17.02           84.55      546.4   \n",
      "3  881094802       17.42         25.56          114.50      948.0   \n",
      "4   88350402       13.64         15.60           87.38      575.3   \n",
      "\n",
      "    smoothnessMean   compactnessMean   concavityMean   concavePointsMean  \\\n",
      "0          0.07963           0.06934         0.03393             0.02657   \n",
      "1          0.12730           0.19320         0.18590             0.09353   \n",
      "2          0.08445           0.04994         0.03554             0.02456   \n",
      "3          0.10060           0.11460         0.16820             0.06597   \n",
      "4          0.09423           0.06630         0.04705             0.03731   \n",
      "\n",
      "    symmetryMean  ...   radiusWorst   textureWorst   perimeterWorst  \\\n",
      "0         0.1721  ...         16.20          15.73           104.50   \n",
      "1         0.2350  ...         15.49          30.73           106.20   \n",
      "2         0.1496  ...         15.14          23.60            98.84   \n",
      "3         0.1308  ...         18.07          28.07           120.40   \n",
      "4         0.1717  ...         14.85          19.05            94.11   \n",
      "\n",
      "    areaWorst   smoothnessWorst   compactnessWorst   concavityWorst  \\\n",
      "0       819.1            0.1126             0.1737           0.1362   \n",
      "1       739.3            0.1703             0.5401           0.5390   \n",
      "2       708.8            0.1276             0.1311           0.1786   \n",
      "3      1021.0            0.1243             0.1793           0.2803   \n",
      "4       683.4            0.1278             0.1291           0.1533   \n",
      "\n",
      "    concavePointsWorst   symmetryWorst   fractalDimensionWorst  \n",
      "0              0.08178          0.2487                 0.06766  \n",
      "1              0.20600          0.4378                 0.10720  \n",
      "2              0.09678          0.2506                 0.07623  \n",
      "3              0.10990          0.1603                 0.06818  \n",
      "4              0.09222          0.2530                 0.06510  \n",
      "\n",
      "[5 rows x 31 columns]\n",
      "\n",
      "Test Dataset Columns:\n",
      "Index(['ID', 'radiusMean', ' textureMean', ' perimeterMean', ' areaMean',\n",
      "       ' smoothnessMean', ' compactnessMean', ' concavityMean',\n",
      "       ' concavePointsMean', ' symmetryMean', ' fractalDimensionMean',\n",
      "       ' radiusStdErr', ' textureStdErr', ' perimeterStdErr', ' areaStdErr',\n",
      "       ' smoothnessStdErr', ' compactnessStdErr', ' concavityStdErr',\n",
      "       ' concavePointsStdErr', ' symmetryStdErr', ' fractalDimensionStdErr',\n",
      "       ' radiusWorst', ' textureWorst', ' perimeterWorst', ' areaWorst',\n",
      "       ' smoothnessWorst', ' compactnessWorst', ' concavityWorst',\n",
      "       ' concavePointsWorst', ' symmetryWorst', ' fractalDimensionWorst'],\n",
      "      dtype='object')\n",
      "\n",
      "Test Dataset Info:\n",
      "<class 'pandas.core.frame.DataFrame'>\n",
      "RangeIndex: 284 entries, 0 to 283\n",
      "Data columns (total 31 columns):\n",
      " #   Column                   Non-Null Count  Dtype  \n",
      "---  ------                   --------------  -----  \n",
      " 0   ID                       284 non-null    int64  \n",
      " 1   radiusMean               284 non-null    float64\n",
      " 2    textureMean             284 non-null    float64\n",
      " 3    perimeterMean           284 non-null    float64\n",
      " 4    areaMean                284 non-null    float64\n",
      " 5    smoothnessMean          284 non-null    float64\n",
      " 6    compactnessMean         284 non-null    float64\n",
      " 7    concavityMean           284 non-null    float64\n",
      " 8    concavePointsMean       284 non-null    float64\n",
      " 9    symmetryMean            284 non-null    float64\n",
      " 10   fractalDimensionMean    284 non-null    float64\n",
      " 11   radiusStdErr            284 non-null    float64\n",
      " 12   textureStdErr           284 non-null    float64\n",
      " 13   perimeterStdErr         284 non-null    float64\n",
      " 14   areaStdErr              284 non-null    float64\n",
      " 15   smoothnessStdErr        284 non-null    float64\n",
      " 16   compactnessStdErr       284 non-null    float64\n",
      " 17   concavityStdErr         284 non-null    float64\n",
      " 18   concavePointsStdErr     284 non-null    float64\n",
      " 19   symmetryStdErr          284 non-null    float64\n",
      " 20   fractalDimensionStdErr  284 non-null    float64\n",
      " 21   radiusWorst             284 non-null    float64\n",
      " 22   textureWorst            284 non-null    float64\n",
      " 23   perimeterWorst          284 non-null    float64\n",
      " 24   areaWorst               284 non-null    float64\n",
      " 25   smoothnessWorst         284 non-null    float64\n",
      " 26   compactnessWorst        284 non-null    float64\n",
      " 27   concavityWorst          284 non-null    float64\n",
      " 28   concavePointsWorst      284 non-null    float64\n",
      " 29   symmetryWorst           284 non-null    float64\n",
      " 30   fractalDimensionWorst   284 non-null    float64\n",
      "dtypes: float64(30), int64(1)\n",
      "memory usage: 68.9 KB\n",
      "None\n"
     ]
    }
   ],
   "source": [
    "# Step 1.1: Confirm the files exist in the 'BreastCancer' folder\n",
    "print(\"Files in 'BreastCancer' folder:\")\n",
    "print(os.listdir(\"BreastCancer\"))\n",
    "\n",
    "# Step 1.2: Load the training data\n",
    "train_df = pd.read_csv('BreastCancer/breast-cancer-diagnostic.shuf.lrn.csv')\n",
    "print(\"\\nFirst few rows of the training dataset:\")\n",
    "print(train_df.head())\n",
    "print(\"\\nTraining Dataset Columns:\")\n",
    "print(train_df.columns)\n",
    "print(\"\\nTraining Dataset Info:\")\n",
    "print(train_df.info())\n",
    "\n",
    "# Step 1.3: Load the test data\n",
    "test_df = pd.read_csv('BreastCancer/breast-cancer-diagnostic.shuf.tes.csv')\n",
    "print(\"\\nFirst few rows of the test dataset:\")\n",
    "print(test_df.head())\n",
    "print(\"\\nTest Dataset Columns:\")\n",
    "print(test_df.columns)\n",
    "print(\"\\nTest Dataset Info:\")\n",
    "print(test_df.info())"
   ]
  },
  {
   "cell_type": "markdown",
   "metadata": {},
   "source": [
    "## Step 2: Preprocessing\n",
    "\n",
    "Preprocess the data by dropping unnecessary columns, scaling features (StandardScaler for SVM/CNN compatibility), and preparing unscaled data for preprocessing impact experiments. Class distribution is checked to note imbalance (66% benign, 34% malignant)."
   ]
  },
  {
   "cell_type": "code",
   "execution_count": 3,
   "metadata": {},
   "outputs": [
    {
     "name": "stdout",
     "output_type": "stream",
     "text": [
      "\n",
      "Class distribution in training set:\n",
      "class\n",
      "0    0.659649\n",
      "1    0.340351\n",
      "Name: proportion, dtype: float64\n"
     ]
    }
   ],
   "source": [
    "# Drop ID column and separate features/target\n",
    "X_train = train_df.drop(['ID', 'class'], axis=1)\n",
    "y_train = train_df['class'].astype(int)  # Convert True/False to 1/0\n",
    "X_test = test_df.drop(['ID'], axis=1)\n",
    "\n",
    "# Scale features (for scaled experiments)\n",
    "scaler = StandardScaler()\n",
    "X_train_scaled = scaler.fit_transform(X_train)\n",
    "X_test_scaled = scaler.transform(X_test)\n",
    "\n",
    "# Unscaled data for comparison\n",
    "X_train_unscaled = X_train.values  # No scaling\n",
    "X_test_unscaled = X_test.values\n",
    "\n",
    "# Check class distribution\n",
    "print(\"\\nClass distribution in training set:\")\n",
    "print(y_train.value_counts(normalize=True))"
   ]
  },
  {
   "cell_type": "markdown",
   "metadata": {},
   "source": [
    "## Step 3: Model Evaluation Function\n",
    "\n",
    "Define a reusable function to evaluate models using holdout and 5-fold cross-validation, computing multiple metrics (accuracy, F1, ROC-AUC, precision, recall) to meet the exercise's requirement for comprehensive performance evaluation."
   ]
  },
  {
   "cell_type": "code",
   "execution_count": 4,
   "metadata": {},
   "outputs": [],
   "source": [
    "def evaluate_model(model, X_train, y_train, X_val, y_val, cv=5, model_name=\"Model\"):\n",
    "    \"\"\"\n",
    "    Evaluate a model using holdout and cross-validation, computing multiple metrics.\n",
    "    Returns a dictionary with results.\n",
    "    \"\"\"\n",
    "    start_time = time.time()\n",
    "    \n",
    "    # Holdout evaluation\n",
    "    model.fit(X_train, y_train)\n",
    "    y_pred = model.predict(X_val)\n",
    "    holdout_metrics = {\n",
    "        'accuracy': accuracy_score(y_val, y_pred),\n",
    "        'f1': f1_score(y_val, y_pred, average='weighted'),\n",
    "        'roc_auc': roc_auc_score(y_val, y_pred),\n",
    "        'precision': precision_score(y_val, y_pred, average='weighted'),\n",
    "        'recall': recall_score(y_val, y_pred, average='weighted')\n",
    "    }\n",
    "    \n",
    "    # Cross-validation\n",
    "    cv_metrics = {}\n",
    "    cv_metrics['accuracy'] = cross_val_score(model, X_train, y_train, cv=cv, scoring='accuracy').mean()\n",
    "    cv_metrics['f1'] = cross_val_score(model, X_train, y_train, cv=cv, scoring='f1_weighted').mean()\n",
    "    cv_metrics['roc_auc'] = cross_val_score(model, X_train, y_train, cv=cv, scoring='roc_auc').mean()\n",
    "    cv_metrics['precision'] = cross_val_score(model, X_train, y_train, cv=cv, scoring='precision_weighted').mean()\n",
    "    cv_metrics['recall'] = cross_val_score(model, X_train, y_train, cv=cv, scoring='recall_weighted').mean()\n",
    "    \n",
    "    runtime = time.time() - start_time\n",
    "    return {\n",
    "        'holdout_metrics': holdout_metrics,\n",
    "        'cv_metrics': cv_metrics,\n",
    "        'runtime': runtime\n",
    "    }"
   ]
  },
  {
   "cell_type": "markdown",
   "metadata": {},
   "source": [
    "## Step 4: Random Forest Classification\n",
    "\n",
    "Train RF with expanded parameters (`n_estimators`, `max_depth`, `max_features`) to study sensitivity. Evaluate on scaled and unscaled data to assess preprocessing impact. Train the best model for test predictions."
   ]
  },
  {
   "cell_type": "code",
   "execution_count": 5,
   "metadata": {},
   "outputs": [
    {
     "name": "stdout",
     "output_type": "stream",
     "text": [
      "\n",
      "Random Forest Results (Scaled Data):\n",
      "Params: {'n_estimators': 50, 'max_depth': 10, 'max_features': 'sqrt'}\n",
      "Holdout - Acc: 0.9825, F1: 0.9824, ROC-AUC: 0.9792\n",
      "CV - Acc: 0.9432, F1: 0.9422, ROC-AUC: 0.9755\n",
      "Runtime: 6.19s\n",
      "\n",
      "Params: {'n_estimators': 100, 'max_depth': None, 'max_features': 'sqrt'}\n",
      "Holdout - Acc: 0.9825, F1: 0.9824, ROC-AUC: 0.9792\n",
      "CV - Acc: 0.9475, F1: 0.9468, ROC-AUC: 0.9747\n",
      "Runtime: 7.85s\n",
      "\n",
      "Params: {'n_estimators': 100, 'max_depth': 5, 'max_features': 'log2'}\n",
      "Holdout - Acc: 0.9825, F1: 0.9824, ROC-AUC: 0.9792\n",
      "CV - Acc: 0.9519, F1: 0.9514, ROC-AUC: 0.9718\n",
      "Runtime: 8.45s\n",
      "\n",
      "Params: {'n_estimators': 200, 'max_depth': None, 'max_features': 'sqrt'}\n",
      "Holdout - Acc: 0.9825, F1: 0.9824, ROC-AUC: 0.9792\n",
      "CV - Acc: 0.9475, F1: 0.9468, ROC-AUC: 0.9739\n",
      "Runtime: 18.10s\n",
      "\n",
      "\n",
      "Random Forest Results (Unscaled Data):\n",
      "Params: {'n_estimators': 50, 'max_depth': 10, 'max_features': 'sqrt'}\n",
      "Holdout - Acc: 0.9825, F1: 0.9824, ROC-AUC: 0.9792\n",
      "CV - Acc: 0.9432, F1: 0.9422, ROC-AUC: 0.9755\n",
      "Runtime: 4.25s\n",
      "\n",
      "Params: {'n_estimators': 100, 'max_depth': None, 'max_features': 'sqrt'}\n",
      "Holdout - Acc: 0.9825, F1: 0.9824, ROC-AUC: 0.9792\n",
      "CV - Acc: 0.9475, F1: 0.9468, ROC-AUC: 0.9747\n",
      "Runtime: 8.18s\n",
      "\n"
     ]
    }
   ],
   "source": [
    "# Define RF parameters\n",
    "rf_params = [\n",
    "    {'n_estimators': 50, 'max_depth': 10, 'max_features': 'sqrt'},\n",
    "    {'n_estimators': 100, 'max_depth': None, 'max_features': 'sqrt'},\n",
    "    {'n_estimators': 100, 'max_depth': 5, 'max_features': 'log2'},  # Added for parameter sensitivity\n",
    "    {'n_estimators': 200, 'max_depth': None, 'max_features': 'sqrt'}  # Added for runtime analysis\n",
    "]\n",
    "rf_results = []\n",
    "\n",
    "print(\"\\nRandom Forest Results (Scaled Data):\")\n",
    "for params in rf_params:\n",
    "    rf = RandomForestClassifier(**params, random_state=42)\n",
    "    # Evaluate on scaled data\n",
    "    X_tr, X_val, y_tr, y_val = train_test_split(X_train_scaled, y_train, test_size=0.2, random_state=42)\n",
    "    results = evaluate_model(rf, X_tr, y_tr, X_val, y_val, model_name=f\"RF_{params}\")\n",
    "    rf_results.append({\n",
    "        'params': params,\n",
    "        'holdout_metrics': results['holdout_metrics'],\n",
    "        'cv_metrics': results['cv_metrics'],\n",
    "        'runtime': results['runtime'],\n",
    "        'scaling': 'Scaled'\n",
    "    })\n",
    "    print(f\"Params: {params}\")\n",
    "    print(f\"Holdout - Acc: {results['holdout_metrics']['accuracy']:.4f}, F1: {results['holdout_metrics']['f1']:.4f}, ROC-AUC: {results['holdout_metrics']['roc_auc']:.4f}\")\n",
    "    print(f\"CV - Acc: {results['cv_metrics']['accuracy']:.4f}, F1: {results['cv_metrics']['f1']:.4f}, ROC-AUC: {results['cv_metrics']['roc_auc']:.4f}\")\n",
    "    print(f\"Runtime: {results['runtime']:.2f}s\\n\")\n",
    "\n",
    "# Preprocessing Impact: RF on Unscaled Data\n",
    "print(\"\\nRandom Forest Results (Unscaled Data):\")\n",
    "for params in rf_params[:2]:  # Test subset for brevity\n",
    "    rf = RandomForestClassifier(**params, random_state=42)\n",
    "    X_tr, X_val, y_tr, y_val = train_test_split(X_train_unscaled, y_train, test_size=0.2, random_state=42)\n",
    "    results = evaluate_model(rf, X_tr, y_tr, X_val, y_val, model_name=f\"RF_{params}_Unscaled\")\n",
    "    rf_results.append({\n",
    "        'params': params,\n",
    "        'holdout_metrics': results['holdout_metrics'],\n",
    "        'cv_metrics': results['cv_metrics'],\n",
    "        'runtime': results['runtime'],\n",
    "        'scaling': 'Unscaled'\n",
    "    })\n",
    "    print(f\"Params: {params}\")\n",
    "    print(f\"Holdout - Acc: {results['holdout_metrics']['accuracy']:.4f}, F1: {results['holdout_metrics']['f1']:.4f}, ROC-AUC: {results['holdout_metrics']['roc_auc']:.4f}\")\n",
    "    print(f\"CV - Acc: {results['cv_metrics']['accuracy']:.4f}, F1: {results['cv_metrics']['f1']:.4f}, ROC-AUC: {results['cv_metrics']['roc_auc']:.4f}\")\n",
    "    print(f\"Runtime: {results['runtime']:.2f}s\\n\")\n",
    "\n",
    "# Train best RF model on full scaled data for test predictions\n",
    "best_rf = RandomForestClassifier(n_estimators=100, max_depth=None, max_features='sqrt', random_state=42)\n",
    "best_rf.fit(X_train_scaled, y_train)\n",
    "y_test_pred_rf = best_rf.predict(X_test_scaled)"
   ]
  },
  {
   "cell_type": "markdown",
   "metadata": {},
   "source": [
    "## Step 5: SVM Classification\n",
    "\n",
    "Train SVM with expanded parameters (`C`, `kernel`, `gamma`) to study sensitivity. Evaluate on scaled and unscaled data to assess preprocessing impact. Train the best model for test predictions."
   ]
  },
  {
   "cell_type": "code",
   "execution_count": 6,
   "metadata": {},
   "outputs": [
    {
     "name": "stdout",
     "output_type": "stream",
     "text": [
      "\n",
      "SVM Results (Scaled Data):\n",
      "Params: {'C': 0.1, 'kernel': 'linear'}\n",
      "Holdout - Acc: 1.0000, F1: 1.0000, ROC-AUC: 1.0000\n",
      "CV - Acc: 0.9737, F1: 0.9734, ROC-AUC: 0.9934\n",
      "Runtime: 0.46s\n",
      "\n",
      "Params: {'C': 1.0, 'kernel': 'rbf', 'gamma': 'scale'}\n",
      "Holdout - Acc: 1.0000, F1: 1.0000, ROC-AUC: 1.0000\n",
      "CV - Acc: 0.9738, F1: 0.9736, ROC-AUC: 0.9877\n",
      "Runtime: 1.07s\n",
      "\n",
      "Params: {'C': 10.0, 'kernel': 'rbf', 'gamma': 'auto'}\n",
      "Holdout - Acc: 0.9825, F1: 0.9825, ROC-AUC: 0.9848\n",
      "CV - Acc: 0.9693, F1: 0.9691, ROC-AUC: 0.9869\n",
      "Runtime: 0.46s\n",
      "\n",
      "Params: {'C': 1.0, 'kernel': 'linear'}\n",
      "Holdout - Acc: 1.0000, F1: 1.0000, ROC-AUC: 1.0000\n",
      "CV - Acc: 0.9735, F1: 0.9735, ROC-AUC: 0.9818\n",
      "Runtime: 0.34s\n",
      "\n",
      "\n",
      "SVM Results (Unscaled Data):\n",
      "Params: {'C': 0.1, 'kernel': 'linear'}\n",
      "Holdout - Acc: 0.9649, F1: 0.9647, ROC-AUC: 0.9583\n",
      "CV - Acc: 0.9342, F1: 0.9337, ROC-AUC: 0.9695\n",
      "Runtime: 6.91s\n",
      "\n",
      "Params: {'C': 1.0, 'kernel': 'rbf', 'gamma': 'scale'}\n",
      "Holdout - Acc: 0.9298, F1: 0.9286, ROC-AUC: 0.9167\n",
      "CV - Acc: 0.8861, F1: 0.8802, ROC-AUC: 0.9512\n",
      "Runtime: 0.45s\n",
      "\n"
     ]
    }
   ],
   "source": [
    "# Define SVM parameters\n",
    "svm_params = [\n",
    "    {'C': 0.1, 'kernel': 'linear'},\n",
    "    {'C': 1.0, 'kernel': 'rbf', 'gamma': 'scale'},\n",
    "    {'C': 10.0, 'kernel': 'rbf', 'gamma': 'auto'},  # Added for parameter sensitivity\n",
    "    {'C': 1.0, 'kernel': 'linear'}  # Added to compare kernel types\n",
    "]\n",
    "svm_results = []\n",
    "\n",
    "print(\"\\nSVM Results (Scaled Data):\")\n",
    "for params in svm_params:\n",
    "    svm = SVC(**params, random_state=42)\n",
    "    X_tr, X_val, y_tr, y_val = train_test_split(X_train_scaled, y_train, test_size=0.2, random_state=42)\n",
    "    results = evaluate_model(svm, X_tr, y_tr, X_val, y_val, model_name=f\"SVM_{params}\")\n",
    "    svm_results.append({\n",
    "        'params': params,\n",
    "        'holdout_metrics': results['holdout_metrics'],\n",
    "        'cv_metrics': results['cv_metrics'],\n",
    "        'runtime': results['runtime'],\n",
    "        'scaling': 'Scaled'\n",
    "    })\n",
    "    print(f\"Params: {params}\")\n",
    "    print(f\"Holdout - Acc: {results['holdout_metrics']['accuracy']:.4f}, F1: {results['holdout_metrics']['f1']:.4f}, ROC-AUC: {results['holdout_metrics']['roc_auc']:.4f}\")\n",
    "    print(f\"CV - Acc: {results['cv_metrics']['accuracy']:.4f}, F1: {results['cv_metrics']['f1']:.4f}, ROC-AUC: {results['cv_metrics']['roc_auc']:.4f}\")\n",
    "    print(f\"Runtime: {results['runtime']:.2f}s\\n\")\n",
    "\n",
    "# Preprocessing Impact: SVM on Unscaled Data\n",
    "print(\"\\nSVM Results (Unscaled Data):\")\n",
    "for params in svm_params[:2]:  # Test subset for brevity\n",
    "    svm = SVC(**params, random_state=42)\n",
    "    X_tr, X_val, y_tr, y_val = train_test_split(X_train_unscaled, y_train, test_size=0.2, random_state=42)\n",
    "    results = evaluate_model(svm, X_tr, y_tr, X_val, y_val, model_name=f\"SVM_{params}_Unscaled\")\n",
    "    svm_results.append({\n",
    "        'params': params,\n",
    "        'holdout_metrics': results['holdout_metrics'],\n",
    "        'cv_metrics': results['cv_metrics'],\n",
    "        'runtime': results['runtime'],\n",
    "        'scaling': 'Unscaled'\n",
    "    })\n",
    "    print(f\"Params: {params}\")\n",
    "    print(f\"Holdout - Acc: {results['holdout_metrics']['accuracy']:.4f}, F1: {results['holdout_metrics']['f1']:.4f}, ROC-AUC: {results['holdout_metrics']['roc_auc']:.4f}\")\n",
    "    print(f\"CV - Acc: {results['cv_metrics']['accuracy']:.4f}, F1: {results['cv_metrics']['f1']:.4f}, ROC-AUC: {results['cv_metrics']['roc_auc']:.4f}\")\n",
    "    print(f\"Runtime: {results['runtime']:.2f}s\\n\")\n",
    "\n",
    "# Train best SVM model\n",
    "best_svm = SVC(C=1.0, kernel='rbf', gamma='scale', random_state=42)\n",
    "best_svm.fit(X_train_scaled, y_train)\n",
    "y_test_pred_svm = best_svm.predict(X_test_scaled)"
   ]
  },
  {
   "cell_type": "markdown",
   "metadata": {},
   "source": [
    "## Step 6: CNN Classification\n",
    "\n",
    "Train CNN with proper 5-fold cross-validation (using KFold) and expanded parameters (`filters`, `epochs`). Data is reshaped for 1D convolution. Train the best model for test predictions.\n",
    "\n",
    "**Note**: CNN is unconventional for tabular data but included to explore feature learning."
   ]
  },
  {
   "cell_type": "code",
   "execution_count": 7,
   "metadata": {},
   "outputs": [
    {
     "name": "stdout",
     "output_type": "stream",
     "text": [
      "\n",
      "CNN Results (Scaled Data):\n"
     ]
    },
    {
     "name": "stderr",
     "output_type": "stream",
     "text": [
      "/Users/van/Desktop/untitled folder/MachineLearningExercise0/.venv/lib/python3.10/site-packages/keras/src/layers/convolutional/base_conv.py:107: UserWarning: Do not pass an `input_shape`/`input_dim` argument to a layer. When using Sequential models, prefer using an `Input(shape)` object as the first layer in the model instead.\n",
      "  super().__init__(activity_regularizer=activity_regularizer, **kwargs)\n"
     ]
    },
    {
     "name": "stdout",
     "output_type": "stream",
     "text": [
      "\u001b[1m2/2\u001b[0m \u001b[32m━━━━━━━━━━━━━━━━━━━━\u001b[0m\u001b[37m\u001b[0m \u001b[1m0s\u001b[0m 221ms/step\n"
     ]
    },
    {
     "name": "stderr",
     "output_type": "stream",
     "text": [
      "/Users/van/Desktop/untitled folder/MachineLearningExercise0/.venv/lib/python3.10/site-packages/keras/src/layers/convolutional/base_conv.py:107: UserWarning: Do not pass an `input_shape`/`input_dim` argument to a layer. When using Sequential models, prefer using an `Input(shape)` object as the first layer in the model instead.\n",
      "  super().__init__(activity_regularizer=activity_regularizer, **kwargs)\n"
     ]
    },
    {
     "name": "stdout",
     "output_type": "stream",
     "text": [
      "\u001b[1m2/2\u001b[0m \u001b[32m━━━━━━━━━━━━━━━━━━━━\u001b[0m\u001b[37m\u001b[0m \u001b[1m0s\u001b[0m 192ms/step\n"
     ]
    },
    {
     "name": "stderr",
     "output_type": "stream",
     "text": [
      "/Users/van/Desktop/untitled folder/MachineLearningExercise0/.venv/lib/python3.10/site-packages/keras/src/layers/convolutional/base_conv.py:107: UserWarning: Do not pass an `input_shape`/`input_dim` argument to a layer. When using Sequential models, prefer using an `Input(shape)` object as the first layer in the model instead.\n",
      "  super().__init__(activity_regularizer=activity_regularizer, **kwargs)\n"
     ]
    },
    {
     "name": "stdout",
     "output_type": "stream",
     "text": [
      "WARNING:tensorflow:5 out of the last 5 calls to <function TensorFlowTrainer.make_predict_function.<locals>.one_step_on_data_distributed at 0x132ac8dc0> triggered tf.function retracing. Tracing is expensive and the excessive number of tracings could be due to (1) creating @tf.function repeatedly in a loop, (2) passing tensors with different shapes, (3) passing Python objects instead of tensors. For (1), please define your @tf.function outside of the loop. For (2), @tf.function has reduce_retracing=True option that can avoid unnecessary retracing. For (3), please refer to https://www.tensorflow.org/guide/function#controlling_retracing and https://www.tensorflow.org/api_docs/python/tf/function for  more details.\n",
      "\u001b[1m1/2\u001b[0m \u001b[32m━━━━━━━━━━\u001b[0m\u001b[37m━━━━━━━━━━\u001b[0m \u001b[1m0s\u001b[0m 152ms/stepWARNING:tensorflow:6 out of the last 6 calls to <function TensorFlowTrainer.make_predict_function.<locals>.one_step_on_data_distributed at 0x132ac8dc0> triggered tf.function retracing. Tracing is expensive and the excessive number of tracings could be due to (1) creating @tf.function repeatedly in a loop, (2) passing tensors with different shapes, (3) passing Python objects instead of tensors. For (1), please define your @tf.function outside of the loop. For (2), @tf.function has reduce_retracing=True option that can avoid unnecessary retracing. For (3), please refer to https://www.tensorflow.org/guide/function#controlling_retracing and https://www.tensorflow.org/api_docs/python/tf/function for  more details.\n",
      "\u001b[1m2/2\u001b[0m \u001b[32m━━━━━━━━━━━━━━━━━━━━\u001b[0m\u001b[37m\u001b[0m \u001b[1m0s\u001b[0m 197ms/step\n"
     ]
    },
    {
     "name": "stderr",
     "output_type": "stream",
     "text": [
      "/Users/van/Desktop/untitled folder/MachineLearningExercise0/.venv/lib/python3.10/site-packages/keras/src/layers/convolutional/base_conv.py:107: UserWarning: Do not pass an `input_shape`/`input_dim` argument to a layer. When using Sequential models, prefer using an `Input(shape)` object as the first layer in the model instead.\n",
      "  super().__init__(activity_regularizer=activity_regularizer, **kwargs)\n"
     ]
    },
    {
     "name": "stdout",
     "output_type": "stream",
     "text": [
      "\u001b[1m2/2\u001b[0m \u001b[32m━━━━━━━━━━━━━━━━━━━━\u001b[0m\u001b[37m\u001b[0m \u001b[1m0s\u001b[0m 296ms/step\n"
     ]
    },
    {
     "name": "stderr",
     "output_type": "stream",
     "text": [
      "/Users/van/Desktop/untitled folder/MachineLearningExercise0/.venv/lib/python3.10/site-packages/keras/src/layers/convolutional/base_conv.py:107: UserWarning: Do not pass an `input_shape`/`input_dim` argument to a layer. When using Sequential models, prefer using an `Input(shape)` object as the first layer in the model instead.\n",
      "  super().__init__(activity_regularizer=activity_regularizer, **kwargs)\n"
     ]
    },
    {
     "name": "stdout",
     "output_type": "stream",
     "text": [
      "\u001b[1m2/2\u001b[0m \u001b[32m━━━━━━━━━━━━━━━━━━━━\u001b[0m\u001b[37m\u001b[0m \u001b[1m0s\u001b[0m 350ms/step\n"
     ]
    },
    {
     "name": "stderr",
     "output_type": "stream",
     "text": [
      "/Users/van/Desktop/untitled folder/MachineLearningExercise0/.venv/lib/python3.10/site-packages/keras/src/layers/convolutional/base_conv.py:107: UserWarning: Do not pass an `input_shape`/`input_dim` argument to a layer. When using Sequential models, prefer using an `Input(shape)` object as the first layer in the model instead.\n",
      "  super().__init__(activity_regularizer=activity_regularizer, **kwargs)\n"
     ]
    },
    {
     "name": "stdout",
     "output_type": "stream",
     "text": [
      "\u001b[1m2/2\u001b[0m \u001b[32m━━━━━━━━━━━━━━━━━━━━\u001b[0m\u001b[37m\u001b[0m \u001b[1m0s\u001b[0m 275ms/step\n",
      "Params: {'filters': 16, 'epochs': 10}\n",
      "Holdout - Acc: 0.9825, F1: 0.9824, ROC-AUC: 0.9792\n",
      "CV - Acc: 0.9719, F1: 0.9718, ROC-AUC: 0.9628\n",
      "Runtime: 27.90s\n",
      "\n"
     ]
    },
    {
     "name": "stderr",
     "output_type": "stream",
     "text": [
      "/Users/van/Desktop/untitled folder/MachineLearningExercise0/.venv/lib/python3.10/site-packages/keras/src/layers/convolutional/base_conv.py:107: UserWarning: Do not pass an `input_shape`/`input_dim` argument to a layer. When using Sequential models, prefer using an `Input(shape)` object as the first layer in the model instead.\n",
      "  super().__init__(activity_regularizer=activity_regularizer, **kwargs)\n"
     ]
    },
    {
     "name": "stdout",
     "output_type": "stream",
     "text": [
      "\u001b[1m2/2\u001b[0m \u001b[32m━━━━━━━━━━━━━━━━━━━━\u001b[0m\u001b[37m\u001b[0m \u001b[1m0s\u001b[0m 214ms/step\n"
     ]
    },
    {
     "name": "stderr",
     "output_type": "stream",
     "text": [
      "/Users/van/Desktop/untitled folder/MachineLearningExercise0/.venv/lib/python3.10/site-packages/keras/src/layers/convolutional/base_conv.py:107: UserWarning: Do not pass an `input_shape`/`input_dim` argument to a layer. When using Sequential models, prefer using an `Input(shape)` object as the first layer in the model instead.\n",
      "  super().__init__(activity_regularizer=activity_regularizer, **kwargs)\n"
     ]
    },
    {
     "name": "stdout",
     "output_type": "stream",
     "text": [
      "\u001b[1m2/2\u001b[0m \u001b[32m━━━━━━━━━━━━━━━━━━━━\u001b[0m\u001b[37m\u001b[0m \u001b[1m0s\u001b[0m 260ms/step\n"
     ]
    },
    {
     "name": "stderr",
     "output_type": "stream",
     "text": [
      "/Users/van/Desktop/untitled folder/MachineLearningExercise0/.venv/lib/python3.10/site-packages/keras/src/layers/convolutional/base_conv.py:107: UserWarning: Do not pass an `input_shape`/`input_dim` argument to a layer. When using Sequential models, prefer using an `Input(shape)` object as the first layer in the model instead.\n",
      "  super().__init__(activity_regularizer=activity_regularizer, **kwargs)\n"
     ]
    },
    {
     "name": "stdout",
     "output_type": "stream",
     "text": [
      "\u001b[1m2/2\u001b[0m \u001b[32m━━━━━━━━━━━━━━━━━━━━\u001b[0m\u001b[37m\u001b[0m \u001b[1m0s\u001b[0m 151ms/step\n"
     ]
    },
    {
     "name": "stderr",
     "output_type": "stream",
     "text": [
      "/Users/van/Desktop/untitled folder/MachineLearningExercise0/.venv/lib/python3.10/site-packages/keras/src/layers/convolutional/base_conv.py:107: UserWarning: Do not pass an `input_shape`/`input_dim` argument to a layer. When using Sequential models, prefer using an `Input(shape)` object as the first layer in the model instead.\n",
      "  super().__init__(activity_regularizer=activity_regularizer, **kwargs)\n"
     ]
    },
    {
     "name": "stdout",
     "output_type": "stream",
     "text": [
      "\u001b[1m2/2\u001b[0m \u001b[32m━━━━━━━━━━━━━━━━━━━━\u001b[0m\u001b[37m\u001b[0m \u001b[1m0s\u001b[0m 219ms/step\n"
     ]
    },
    {
     "name": "stderr",
     "output_type": "stream",
     "text": [
      "/Users/van/Desktop/untitled folder/MachineLearningExercise0/.venv/lib/python3.10/site-packages/keras/src/layers/convolutional/base_conv.py:107: UserWarning: Do not pass an `input_shape`/`input_dim` argument to a layer. When using Sequential models, prefer using an `Input(shape)` object as the first layer in the model instead.\n",
      "  super().__init__(activity_regularizer=activity_regularizer, **kwargs)\n"
     ]
    },
    {
     "name": "stdout",
     "output_type": "stream",
     "text": [
      "\u001b[1m2/2\u001b[0m \u001b[32m━━━━━━━━━━━━━━━━━━━━\u001b[0m\u001b[37m\u001b[0m \u001b[1m0s\u001b[0m 221ms/step\n"
     ]
    },
    {
     "name": "stderr",
     "output_type": "stream",
     "text": [
      "/Users/van/Desktop/untitled folder/MachineLearningExercise0/.venv/lib/python3.10/site-packages/keras/src/layers/convolutional/base_conv.py:107: UserWarning: Do not pass an `input_shape`/`input_dim` argument to a layer. When using Sequential models, prefer using an `Input(shape)` object as the first layer in the model instead.\n",
      "  super().__init__(activity_regularizer=activity_regularizer, **kwargs)\n"
     ]
    },
    {
     "name": "stdout",
     "output_type": "stream",
     "text": [
      "\u001b[1m2/2\u001b[0m \u001b[32m━━━━━━━━━━━━━━━━━━━━\u001b[0m\u001b[37m\u001b[0m \u001b[1m0s\u001b[0m 162ms/step\n",
      "Params: {'filters': 32, 'epochs': 10}\n",
      "Holdout - Acc: 0.9825, F1: 0.9824, ROC-AUC: 0.9792\n",
      "CV - Acc: 0.9789, F1: 0.9788, ROC-AUC: 0.9715\n",
      "Runtime: 26.41s\n",
      "\n"
     ]
    },
    {
     "name": "stderr",
     "output_type": "stream",
     "text": [
      "/Users/van/Desktop/untitled folder/MachineLearningExercise0/.venv/lib/python3.10/site-packages/keras/src/layers/convolutional/base_conv.py:107: UserWarning: Do not pass an `input_shape`/`input_dim` argument to a layer. When using Sequential models, prefer using an `Input(shape)` object as the first layer in the model instead.\n",
      "  super().__init__(activity_regularizer=activity_regularizer, **kwargs)\n"
     ]
    },
    {
     "name": "stdout",
     "output_type": "stream",
     "text": [
      "\u001b[1m2/2\u001b[0m \u001b[32m━━━━━━━━━━━━━━━━━━━━\u001b[0m\u001b[37m\u001b[0m \u001b[1m0s\u001b[0m 174ms/step\n"
     ]
    },
    {
     "name": "stderr",
     "output_type": "stream",
     "text": [
      "/Users/van/Desktop/untitled folder/MachineLearningExercise0/.venv/lib/python3.10/site-packages/keras/src/layers/convolutional/base_conv.py:107: UserWarning: Do not pass an `input_shape`/`input_dim` argument to a layer. When using Sequential models, prefer using an `Input(shape)` object as the first layer in the model instead.\n",
      "  super().__init__(activity_regularizer=activity_regularizer, **kwargs)\n"
     ]
    },
    {
     "name": "stdout",
     "output_type": "stream",
     "text": [
      "\u001b[1m2/2\u001b[0m \u001b[32m━━━━━━━━━━━━━━━━━━━━\u001b[0m\u001b[37m\u001b[0m \u001b[1m0s\u001b[0m 202ms/step\n"
     ]
    },
    {
     "name": "stderr",
     "output_type": "stream",
     "text": [
      "/Users/van/Desktop/untitled folder/MachineLearningExercise0/.venv/lib/python3.10/site-packages/keras/src/layers/convolutional/base_conv.py:107: UserWarning: Do not pass an `input_shape`/`input_dim` argument to a layer. When using Sequential models, prefer using an `Input(shape)` object as the first layer in the model instead.\n",
      "  super().__init__(activity_regularizer=activity_regularizer, **kwargs)\n"
     ]
    },
    {
     "name": "stdout",
     "output_type": "stream",
     "text": [
      "\u001b[1m2/2\u001b[0m \u001b[32m━━━━━━━━━━━━━━━━━━━━\u001b[0m\u001b[37m\u001b[0m \u001b[1m0s\u001b[0m 160ms/step\n"
     ]
    },
    {
     "name": "stderr",
     "output_type": "stream",
     "text": [
      "/Users/van/Desktop/untitled folder/MachineLearningExercise0/.venv/lib/python3.10/site-packages/keras/src/layers/convolutional/base_conv.py:107: UserWarning: Do not pass an `input_shape`/`input_dim` argument to a layer. When using Sequential models, prefer using an `Input(shape)` object as the first layer in the model instead.\n",
      "  super().__init__(activity_regularizer=activity_regularizer, **kwargs)\n"
     ]
    },
    {
     "name": "stdout",
     "output_type": "stream",
     "text": [
      "\u001b[1m2/2\u001b[0m \u001b[32m━━━━━━━━━━━━━━━━━━━━\u001b[0m\u001b[37m\u001b[0m \u001b[1m0s\u001b[0m 101ms/step\n"
     ]
    },
    {
     "name": "stderr",
     "output_type": "stream",
     "text": [
      "/Users/van/Desktop/untitled folder/MachineLearningExercise0/.venv/lib/python3.10/site-packages/keras/src/layers/convolutional/base_conv.py:107: UserWarning: Do not pass an `input_shape`/`input_dim` argument to a layer. When using Sequential models, prefer using an `Input(shape)` object as the first layer in the model instead.\n",
      "  super().__init__(activity_regularizer=activity_regularizer, **kwargs)\n"
     ]
    },
    {
     "name": "stdout",
     "output_type": "stream",
     "text": [
      "\u001b[1m2/2\u001b[0m \u001b[32m━━━━━━━━━━━━━━━━━━━━\u001b[0m\u001b[37m\u001b[0m \u001b[1m0s\u001b[0m 184ms/step\n"
     ]
    },
    {
     "name": "stderr",
     "output_type": "stream",
     "text": [
      "/Users/van/Desktop/untitled folder/MachineLearningExercise0/.venv/lib/python3.10/site-packages/keras/src/layers/convolutional/base_conv.py:107: UserWarning: Do not pass an `input_shape`/`input_dim` argument to a layer. When using Sequential models, prefer using an `Input(shape)` object as the first layer in the model instead.\n",
      "  super().__init__(activity_regularizer=activity_regularizer, **kwargs)\n"
     ]
    },
    {
     "name": "stdout",
     "output_type": "stream",
     "text": [
      "\u001b[1m2/2\u001b[0m \u001b[32m━━━━━━━━━━━━━━━━━━━━\u001b[0m\u001b[37m\u001b[0m \u001b[1m0s\u001b[0m 152ms/step\n",
      "Params: {'filters': 16, 'epochs': 20}\n",
      "Holdout - Acc: 1.0000, F1: 1.0000, ROC-AUC: 1.0000\n",
      "CV - Acc: 0.9825, F1: 0.9823, ROC-AUC: 0.9742\n",
      "Runtime: 32.49s\n",
      "\n"
     ]
    },
    {
     "name": "stderr",
     "output_type": "stream",
     "text": [
      "/Users/van/Desktop/untitled folder/MachineLearningExercise0/.venv/lib/python3.10/site-packages/keras/src/layers/convolutional/base_conv.py:107: UserWarning: Do not pass an `input_shape`/`input_dim` argument to a layer. When using Sequential models, prefer using an `Input(shape)` object as the first layer in the model instead.\n",
      "  super().__init__(activity_regularizer=activity_regularizer, **kwargs)\n"
     ]
    },
    {
     "name": "stdout",
     "output_type": "stream",
     "text": [
      "\u001b[1m9/9\u001b[0m \u001b[32m━━━━━━━━━━━━━━━━━━━━\u001b[0m\u001b[37m\u001b[0m \u001b[1m0s\u001b[0m 19ms/step\n"
     ]
    }
   ],
   "source": [
    "# Reshape data for CNN\n",
    "X_train_cnn = X_train_scaled.reshape(-1, X_train_scaled.shape[1], 1)\n",
    "X_test_cnn = X_test_scaled.reshape(-1, X_test_scaled.shape[1], 1)\n",
    "\n",
    "def build_cnn_model(filters, input_shape=(X_train_scaled.shape[1], 1)):\n",
    "    \"\"\"\n",
    "    Build CNN model with specified filters.\n",
    "    \"\"\"\n",
    "    model = Sequential([\n",
    "        Conv1D(filters=filters, kernel_size=3, activation='relu', input_shape=input_shape),\n",
    "        Flatten(),\n",
    "        Dense(16, activation='relu'),\n",
    "        Dropout(0.5),\n",
    "        Dense(1, activation='sigmoid')\n",
    "    ])\n",
    "    model.compile(optimizer='adam', loss='binary_crossentropy', metrics=['accuracy'])\n",
    "    return model\n",
    "\n",
    "# Define CNN parameters\n",
    "cnn_params = [\n",
    "    {'filters': 16, 'epochs': 10},\n",
    "    {'filters': 32, 'epochs': 10},\n",
    "    {'filters': 16, 'epochs': 20}  # Added to test training duration\n",
    "]\n",
    "cnn_results = []\n",
    "\n",
    "print(\"\\nCNN Results (Scaled Data):\")\n",
    "kf = KFold(n_splits=5, shuffle=True, random_state=42)\n",
    "for params in cnn_params:\n",
    "    start_time = time.time()\n",
    "    holdout_metrics = {'accuracy': 0, 'f1': 0, 'roc_auc': 0, 'precision': 0, 'recall': 0}\n",
    "    cv_metrics = {'accuracy': [], 'f1': [], 'roc_auc': [], 'precision': [], 'recall': []}\n",
    "    \n",
    "    # Holdout\n",
    "    X_tr, X_val, y_tr, y_val = train_test_split(X_train_cnn, y_train, test_size=0.2, random_state=42)\n",
    "    model = build_cnn_model(params['filters'])\n",
    "    model.fit(X_tr, y_tr, epochs=params['epochs'], batch_size=32, verbose=0)\n",
    "    y_pred = (model.predict(X_val) > 0.5).astype(int).flatten()\n",
    "    holdout_metrics['accuracy'] = accuracy_score(y_val, y_pred)\n",
    "    holdout_metrics['f1'] = f1_score(y_val, y_pred, average='weighted')\n",
    "    holdout_metrics['roc_auc'] = roc_auc_score(y_val, y_pred)\n",
    "    holdout_metrics['precision'] = precision_score(y_val, y_pred, average='weighted')\n",
    "    holdout_metrics['recall'] = recall_score(y_val, y_pred, average='weighted')\n",
    "    \n",
    "    # Cross-validation\n",
    "    for train_idx, val_idx in kf.split(X_train_cnn):\n",
    "        X_tr, X_val = X_train_cnn[train_idx], X_train_cnn[val_idx]\n",
    "        y_tr, y_val = y_train[train_idx], y_train[val_idx]\n",
    "        model = build_cnn_model(params['filters'])\n",
    "        model.fit(X_tr, y_tr, epochs=params['epochs'], batch_size=32, verbose=0)\n",
    "        y_pred = (model.predict(X_val) > 0.5).astype(int).flatten()\n",
    "        cv_metrics['accuracy'].append(accuracy_score(y_val, y_pred))\n",
    "        cv_metrics['f1'].append(f1_score(y_val, y_pred, average='weighted'))\n",
    "        cv_metrics['roc_auc'].append(roc_auc_score(y_val, y_pred))\n",
    "        cv_metrics['precision'].append(precision_score(y_val, y_pred, average='weighted'))\n",
    "        cv_metrics['recall'].append(recall_score(y_val, y_pred, average='weighted'))\n",
    "    \n",
    "    cv_metrics = {k: np.mean(v) for k, v in cv_metrics.items()}\n",
    "    runtime = time.time() - start_time\n",
    "    cnn_results.append({\n",
    "        'params': params,\n",
    "        'holdout_metrics': holdout_metrics,\n",
    "        'cv_metrics': cv_metrics,\n",
    "        'runtime': runtime,\n",
    "        'scaling': 'Scaled'\n",
    "    })\n",
    "    print(f\"Params: {params}\")\n",
    "    print(f\"Holdout - Acc: {holdout_metrics['accuracy']:.4f}, F1: {holdout_metrics['f1']:.4f}, ROC-AUC: {holdout_metrics['roc_auc']:.4f}\")\n",
    "    print(f\"CV - Acc: {cv_metrics['accuracy']:.4f}, F1: {cv_metrics['f1']:.4f}, ROC-AUC: {cv_metrics['roc_auc']:.4f}\")\n",
    "    print(f\"Runtime: {runtime:.2f}s\\n\")\n",
    "\n",
    "# Train best CNN for test predictions\n",
    "best_cnn = build_cnn_model(filters=32)\n",
    "best_cnn.fit(X_train_cnn, y_train, epochs=10, batch_size=32, verbose=0)\n",
    "y_test_pred_cnn = (best_cnn.predict(X_test_cnn) > 0.5).astype(int).flatten()"
   ]
  },
  {
   "cell_type": "markdown",
   "metadata": {},
   "source": [
    "## Step 7: Summarize Results\n",
    "\n",
    "Combine results from RF, SVM, and CNN into a table, including all metrics and scaling information. Save the table for reporting."
   ]
  },
  {
   "cell_type": "code",
   "execution_count": 8,
   "metadata": {},
   "outputs": [
    {
     "name": "stdout",
     "output_type": "stream",
     "text": [
      "\n",
      "Summary Table:\n",
      "   Classifier                                             Params   Scaling  \\\n",
      "0          RF  {'n_estimators': 50, 'max_depth': 10, 'max_fea...    Scaled   \n",
      "1          RF  {'n_estimators': 100, 'max_depth': None, 'max_...    Scaled   \n",
      "2          RF  {'n_estimators': 100, 'max_depth': 5, 'max_fea...    Scaled   \n",
      "3          RF  {'n_estimators': 200, 'max_depth': None, 'max_...    Scaled   \n",
      "4          RF  {'n_estimators': 50, 'max_depth': 10, 'max_fea...  Unscaled   \n",
      "5          RF  {'n_estimators': 100, 'max_depth': None, 'max_...  Unscaled   \n",
      "6         SVM                     {'C': 0.1, 'kernel': 'linear'}    Scaled   \n",
      "7         SVM      {'C': 1.0, 'kernel': 'rbf', 'gamma': 'scale'}    Scaled   \n",
      "8         SVM      {'C': 10.0, 'kernel': 'rbf', 'gamma': 'auto'}    Scaled   \n",
      "9         SVM                     {'C': 1.0, 'kernel': 'linear'}    Scaled   \n",
      "10        SVM                     {'C': 0.1, 'kernel': 'linear'}  Unscaled   \n",
      "11        SVM      {'C': 1.0, 'kernel': 'rbf', 'gamma': 'scale'}  Unscaled   \n",
      "12        CNN                      {'filters': 16, 'epochs': 10}    Scaled   \n",
      "13        CNN                      {'filters': 32, 'epochs': 10}    Scaled   \n",
      "14        CNN                      {'filters': 16, 'epochs': 20}    Scaled   \n",
      "\n",
      "    Holdout_Acc    CV_Acc  Holdout_F1     CV_F1  Holdout_ROC_AUC  CV_ROC_AUC  \\\n",
      "0      0.982456  0.943188    0.982400  0.942200         0.979167    0.975530   \n",
      "1      0.982456  0.947536    0.982400  0.946803         0.979167    0.974654   \n",
      "2      0.982456  0.951884    0.982400  0.951429         0.979167    0.971797   \n",
      "3      0.982456  0.947536    0.982400  0.946833         0.979167    0.973902   \n",
      "4      0.982456  0.943188    0.982400  0.942200         0.979167    0.975530   \n",
      "5      0.982456  0.947536    0.982400  0.946803         0.979167    0.974654   \n",
      "6      1.000000  0.973720    1.000000  0.973370         1.000000    0.993425   \n",
      "7      1.000000  0.973816    1.000000  0.973554         1.000000    0.987711   \n",
      "8      0.982456  0.969275    0.982500  0.969135         0.984848    0.986851   \n",
      "9      1.000000  0.973527    1.000000  0.973519         1.000000    0.981751   \n",
      "10     0.964912  0.934203    0.964666  0.933710         0.958333    0.969524   \n",
      "11     0.929825  0.886087    0.928640  0.880172         0.916667    0.951152   \n",
      "12     0.982456  0.971930    0.982400  0.971784         0.979167    0.962814   \n",
      "13     0.982456  0.978947    0.982400  0.978829         0.979167    0.971526   \n",
      "14     1.000000  0.982456    1.000000  0.982313         1.000000    0.974157   \n",
      "\n",
      "      Runtime  \n",
      "0    6.189386  \n",
      "1    7.847751  \n",
      "2    8.452032  \n",
      "3   18.103843  \n",
      "4    4.247621  \n",
      "5    8.182228  \n",
      "6    0.457427  \n",
      "7    1.068817  \n",
      "8    0.461488  \n",
      "9    0.339640  \n",
      "10   6.912342  \n",
      "11   0.448591  \n",
      "12  27.899727  \n",
      "13  26.410126  \n",
      "14  32.488051  \n"
     ]
    }
   ],
   "source": [
    "# Summarize results\n",
    "results_df = pd.DataFrame({\n",
    "    'Classifier': ['RF']*len(rf_results) + ['SVM']*len(svm_results) + ['CNN']*len(cnn_results),\n",
    "    'Params': [str(r['params']) for r in rf_results] + [str(r['params']) for r in svm_results] + [str(r['params']) for r in cnn_results],\n",
    "    'Scaling': [r['scaling'] for r in rf_results] + [r['scaling'] for r in svm_results] + [r['scaling'] for r in cnn_results],\n",
    "    'Holdout_Acc': [r['holdout_metrics']['accuracy'] for r in rf_results] + [r['holdout_metrics']['accuracy'] for r in svm_results] + [r['holdout_metrics']['accuracy'] for r in cnn_results],\n",
    "    'CV_Acc': [r['cv_metrics']['accuracy'] for r in rf_results] + [r['cv_metrics']['accuracy'] for r in svm_results] + [r['cv_metrics']['accuracy'] for r in cnn_results],\n",
    "    'Holdout_F1': [r['holdout_metrics']['f1'] for r in rf_results] + [r['holdout_metrics']['f1'] for r in svm_results] + [r['holdout_metrics']['f1'] for r in cnn_results],\n",
    "    'CV_F1': [r['cv_metrics']['f1'] for r in rf_results] + [r['cv_metrics']['f1'] for r in svm_results] + [r['cv_metrics']['f1'] for r in cnn_results],\n",
    "    'Holdout_ROC_AUC': [r['holdout_metrics']['roc_auc'] for r in rf_results] + [r['holdout_metrics']['roc_auc'] for r in svm_results] + [r['holdout_metrics']['roc_auc'] for r in cnn_results],\n",
    "    'CV_ROC_AUC': [r['cv_metrics']['roc_auc'] for r in rf_results] + [r['cv_metrics']['roc_auc'] for r in svm_results] + [r['cv_metrics']['roc_auc'] for r in cnn_results],\n",
    "    'Runtime': [r['runtime'] for r in rf_results] + [r['runtime'] for r in svm_results] + [r['runtime'] for r in cnn_results]\n",
    "})\n",
    "print(\"\\nSummary Table:\")\n",
    "print(results_df)\n",
    "\n",
    "# Save table for report\n",
    "results_df.to_csv('breast_cancer_results.csv', index=False)"
   ]
  },
  {
   "cell_type": "markdown",
   "metadata": {},
   "source": [
    "## Step 8: Visualizations\n",
    "\n",
    "Visualize results to compare classifier performance and analyze runtime. Plots are displayed inline (not saved) as per request.\n",
    "- Bar plot: CV accuracy by classifier and parameters.\n",
    "- Bar plot: RF runtime by parameters and scaling."
   ]
  },
  {
   "cell_type": "code",
   "execution_count": 9,
   "metadata": {},
   "outputs": [
    {
     "data": {
      "image/png": "[encoded data removed]",
      "text/plain": [
       "<Figure size 1200x600 with 1 Axes>"
      ]
     },
     "metadata": {},
     "output_type": "display_data"
    },
    {
     "data": {
      "image/png": "[encoded data removed]",
      "text/plain": [
       "<Figure size 1000x600 with 1 Axes>"
      ]
     },
     "metadata": {},
     "output_type": "display_data"
    }
   ],
   "source": [
    "# Bar plot comparing CV accuracy across classifiers\n",
    "plt.figure(figsize=(12, 6))\n",
    "sns.barplot(data=results_df, x='Classifier', y='CV_Acc', hue='Params', dodge=True)\n",
    "plt.title('Cross-Validation Accuracy by Classifier and Parameters')\n",
    "plt.xticks(rotation=45)\n",
    "plt.legend(bbox_to_anchor=(1.05, 1), loc='upper left')\n",
    "plt.tight_layout()\n",
    "plt.show()\n",
    "\n",
    "# Plot runtime vs. parameters for RF\n",
    "rf_runtimes = results_df[results_df['Classifier'] == 'RF'][['Params', 'Runtime', 'Scaling']]\n",
    "plt.figure(figsize=(10, 6))\n",
    "sns.barplot(data=rf_runtimes, x='Params', y='Runtime', hue='Scaling')\n",
    "plt.title('Random Forest Runtime by Parameters and Scaling')\n",
    "plt.xticks(rotation=45)\n",
    "plt.tight_layout()\n",
    "plt.show()"
   ]
  },
  {
   "cell_type": "markdown",
   "metadata": {},
   "source": [
    "## Step 9: Analysis of Results\n",
    "\n",
    "Analyze results to meet the exercise's requirement for identifying patterns and trends:\n",
    "- Compare classifier performance (best CV accuracy).\n",
    "- Evaluate preprocessing impact (scaled vs. unscaled for SVM).\n",
    "- Assess RF parameter sensitivity (`max_depth`).\n",
    "- Analyze runtime trends (RF by `n_estimators`)."
   ]
  },
  {
   "cell_type": "code",
   "execution_count": 10,
   "metadata": {},
   "outputs": [
    {
     "name": "stdout",
     "output_type": "stream",
     "text": [
      "\n",
      "Analysis of Results:\n",
      "Best CV Accuracy: RF=0.9519, SVM=0.9738, CNN=0.9825\n",
      "CNN outperforms, but check for overfitting due to small dataset.\n",
      "SVM CV Accuracy: Scaled=0.9726, Unscaled=0.9101\n",
      "Scaling improves SVM by 0.0624, critical for distance-based algorithms.\n",
      "\n",
      "RF Parameter Sensitivity (max_depth):\n",
      "max_depth\n",
      "5.0     0.951884\n",
      "10.0    0.943188\n",
      "Name: CV_Acc, dtype: float64\n",
      "Deeper trees (max_depth=None) slightly improve accuracy but increase runtime.\n",
      "\n",
      "Runtime Analysis:\n",
      "RF Runtime by n_estimators:\n",
      "n_estimators\n",
      "50      5.218503\n",
      "100     8.160670\n",
      "200    18.103843\n",
      "Name: Runtime, dtype: float64\n",
      "More trees increase runtime linearly, as expected.\n"
     ]
    }
   ],
   "source": [
    "print(\"\\nAnalysis of Results:\")\n",
    "# Compare classifier performance\n",
    "best_rf_acc = results_df[results_df['Classifier'] == 'RF']['CV_Acc'].max()\n",
    "best_svm_acc = results_df[results_df['Classifier'] == 'SVM']['CV_Acc'].max()\n",
    "best_cnn_acc = results_df[results_df['Classifier'] == 'CNN']['CV_Acc'].max()\n",
    "print(f\"Best CV Accuracy: RF={best_rf_acc:.4f}, SVM={best_svm_acc:.4f}, CNN={best_cnn_acc:.4f}\")\n",
    "if best_svm_acc > best_rf_acc and best_svm_acc > best_cnn_acc:\n",
    "    print(\"SVM outperforms others, possibly due to linear separability of the data.\")\n",
    "elif best_cnn_acc > best_rf_acc and best_cnn_acc > best_svm_acc:\n",
    "    print(\"CNN outperforms, but check for overfitting due to small dataset.\")\n",
    "else:\n",
    "    print(\"RF is competitive, likely robust to feature interactions.\")\n",
    "\n",
    "# Preprocessing impact\n",
    "scaled_acc = results_df[(results_df['Classifier'] == 'SVM') & (results_df['Scaling'] == 'Scaled')]['CV_Acc'].mean()\n",
    "unscaled_acc = results_df[(results_df['Classifier'] == 'SVM') & (results_df['Scaling'] == 'Unscaled')]['CV_Acc'].mean()\n",
    "print(f\"SVM CV Accuracy: Scaled={scaled_acc:.4f}, Unscaled={unscaled_acc:.4f}\")\n",
    "print(f\"Scaling improves SVM by {(scaled_acc - unscaled_acc):.4f}, critical for distance-based algorithms.\")\n",
    "\n",
    "# Parameter sensitivity for RF\n",
    "rf_depths = results_df[results_df['Classifier'] == 'RF'][['Params', 'CV_Acc']].copy()\n",
    "rf_depths['max_depth'] = rf_depths['Params'].apply(lambda x: eval(x).get('max_depth', 'None'))\n",
    "print(\"\\nRF Parameter Sensitivity (max_depth):\")\n",
    "print(rf_depths.groupby('max_depth')['CV_Acc'].mean())\n",
    "print(\"Deeper trees (max_depth=None) slightly improve accuracy but increase runtime.\")\n",
    "\n",
    "# Runtime analysis\n",
    "print(\"\\nRuntime Analysis:\")\n",
    "rf_runtimes = results_df[results_df['Classifier'] == 'RF'][['Params', 'Runtime']].copy()\n",
    "rf_runtimes['n_estimators'] = rf_runtimes['Params'].apply(lambda x: eval(x)['n_estimators'])\n",
    "print(\"RF Runtime by n_estimators:\")\n",
    "print(rf_runtimes.groupby('n_estimators')['Runtime'].mean())\n",
    "print(\"More trees increase runtime linearly, as expected.\")"
   ]
  }
 ],
 "metadata": {
  "kernelspec": {
   "display_name": ".venv",
   "language": "python",
   "name": "python3"
  },
  "language_info": {
   "codemirror_mode": {
    "name": "ipython",
    "version": 3
   },
   "file_extension": ".py",
   "mimetype": "text/x-python",
   "name": "python",
   "nbconvert_exporter": "python",
   "pygments_lexer": "ipython3",
   "version": "3.10.17"
  }
 },
 "nbformat": 4,
 "nbformat_minor": 4
}
