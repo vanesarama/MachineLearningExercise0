{
 "cells": [
  {
   "cell_type": "code",
   "execution_count": 1,
   "id": "bd261dfc",
   "metadata": {},
   "outputs": [
    {
     "name": "stdout",
     "output_type": "stream",
     "text": [
      "\n",
      "--- Fold 1 ---\n"
     ]
    },
    {
     "name": "stderr",
     "output_type": "stream",
     "text": [
      "/Library/Frameworks/Python.framework/Versions/3.10/lib/python3.10/site-packages/keras/src/layers/convolutional/base_conv.py:107: UserWarning: Do not pass an `input_shape`/`input_dim` argument to a layer. When using Sequential models, prefer using an `Input(shape)` object as the first layer in the model instead.\n",
      "  super().__init__(activity_regularizer=activity_regularizer, **kwargs)\n"
     ]
    },
    {
     "name": "stdout",
     "output_type": "stream",
     "text": [
      "\u001b[1m13/13\u001b[0m \u001b[32m━━━━━━━━━━━━━━━━━━━━\u001b[0m\u001b[37m\u001b[0m \u001b[1m0s\u001b[0m 4ms/step \n",
      "Accuracy: 0.4625 | Precision: 0.4477 | Recall: 0.4625\n",
      "              precision    recall  f1-score   support\n",
      "\n",
      "           0     0.5684    0.5400    0.5538       100\n",
      "           1     0.3333    0.2700    0.2983       100\n",
      "           2     0.3563    0.3100    0.3316       100\n",
      "           3     0.5328    0.7300    0.6160       100\n",
      "\n",
      "    accuracy                         0.4625       400\n",
      "   macro avg     0.4477    0.4625    0.4499       400\n",
      "weighted avg     0.4477    0.4625    0.4499       400\n",
      "\n",
      "\n",
      "--- Fold 2 ---\n"
     ]
    },
    {
     "name": "stderr",
     "output_type": "stream",
     "text": [
      "/Library/Frameworks/Python.framework/Versions/3.10/lib/python3.10/site-packages/keras/src/layers/convolutional/base_conv.py:107: UserWarning: Do not pass an `input_shape`/`input_dim` argument to a layer. When using Sequential models, prefer using an `Input(shape)` object as the first layer in the model instead.\n",
      "  super().__init__(activity_regularizer=activity_regularizer, **kwargs)\n"
     ]
    },
    {
     "name": "stdout",
     "output_type": "stream",
     "text": [
      "\u001b[1m13/13\u001b[0m \u001b[32m━━━━━━━━━━━━━━━━━━━━\u001b[0m\u001b[37m\u001b[0m \u001b[1m0s\u001b[0m 4ms/step \n",
      "Accuracy: 0.4750 | Precision: 0.4662 | Recall: 0.4750\n",
      "              precision    recall  f1-score   support\n",
      "\n",
      "           0     0.5800    0.5800    0.5800       100\n",
      "           1     0.4265    0.2900    0.3452       100\n",
      "           2     0.3511    0.3300    0.3402       100\n",
      "           3     0.5072    0.7000    0.5882       100\n",
      "\n",
      "    accuracy                         0.4750       400\n",
      "   macro avg     0.4662    0.4750    0.4634       400\n",
      "weighted avg     0.4662    0.4750    0.4634       400\n",
      "\n",
      "\n",
      "--- Fold 3 ---\n"
     ]
    },
    {
     "name": "stderr",
     "output_type": "stream",
     "text": [
      "/Library/Frameworks/Python.framework/Versions/3.10/lib/python3.10/site-packages/keras/src/layers/convolutional/base_conv.py:107: UserWarning: Do not pass an `input_shape`/`input_dim` argument to a layer. When using Sequential models, prefer using an `Input(shape)` object as the first layer in the model instead.\n",
      "  super().__init__(activity_regularizer=activity_regularizer, **kwargs)\n"
     ]
    },
    {
     "name": "stdout",
     "output_type": "stream",
     "text": [
      "\u001b[1m13/13\u001b[0m \u001b[32m━━━━━━━━━━━━━━━━━━━━\u001b[0m\u001b[37m\u001b[0m \u001b[1m0s\u001b[0m 4ms/step \n",
      "Accuracy: 0.4750 | Precision: 0.4625 | Recall: 0.4750\n",
      "              precision    recall  f1-score   support\n",
      "\n",
      "           0     0.5238    0.6600    0.5841       100\n",
      "           1     0.3548    0.3300    0.3420       100\n",
      "           2     0.3973    0.2900    0.3353       100\n",
      "           3     0.5741    0.6200    0.5962       100\n",
      "\n",
      "    accuracy                         0.4750       400\n",
      "   macro avg     0.4625    0.4750    0.4644       400\n",
      "weighted avg     0.4625    0.4750    0.4644       400\n",
      "\n",
      "\n",
      "--- Fold 4 ---\n"
     ]
    },
    {
     "name": "stderr",
     "output_type": "stream",
     "text": [
      "/Library/Frameworks/Python.framework/Versions/3.10/lib/python3.10/site-packages/keras/src/layers/convolutional/base_conv.py:107: UserWarning: Do not pass an `input_shape`/`input_dim` argument to a layer. When using Sequential models, prefer using an `Input(shape)` object as the first layer in the model instead.\n",
      "  super().__init__(activity_regularizer=activity_regularizer, **kwargs)\n"
     ]
    },
    {
     "name": "stdout",
     "output_type": "stream",
     "text": [
      "\u001b[1m13/13\u001b[0m \u001b[32m━━━━━━━━━━━━━━━━━━━━\u001b[0m\u001b[37m\u001b[0m \u001b[1m0s\u001b[0m 4ms/step \n",
      "Accuracy: 0.4675 | Precision: 0.4594 | Recall: 0.4675\n",
      "              precision    recall  f1-score   support\n",
      "\n",
      "           0     0.5321    0.5800    0.5550       100\n",
      "           1     0.3465    0.3500    0.3483       100\n",
      "           2     0.4167    0.3000    0.3488       100\n",
      "           3     0.5424    0.6400    0.5872       100\n",
      "\n",
      "    accuracy                         0.4675       400\n",
      "   macro avg     0.4594    0.4675    0.4598       400\n",
      "weighted avg     0.4594    0.4675    0.4598       400\n",
      "\n",
      "\n",
      "--- Fold 5 ---\n"
     ]
    },
    {
     "name": "stderr",
     "output_type": "stream",
     "text": [
      "/Library/Frameworks/Python.framework/Versions/3.10/lib/python3.10/site-packages/keras/src/layers/convolutional/base_conv.py:107: UserWarning: Do not pass an `input_shape`/`input_dim` argument to a layer. When using Sequential models, prefer using an `Input(shape)` object as the first layer in the model instead.\n",
      "  super().__init__(activity_regularizer=activity_regularizer, **kwargs)\n"
     ]
    },
    {
     "name": "stdout",
     "output_type": "stream",
     "text": [
      "\u001b[1m13/13\u001b[0m \u001b[32m━━━━━━━━━━━━━━━━━━━━\u001b[0m\u001b[37m\u001b[0m \u001b[1m0s\u001b[0m 4ms/step \n",
      "Accuracy: 0.4725 | Precision: 0.4760 | Recall: 0.4725\n",
      "              precision    recall  f1-score   support\n",
      "\n",
      "           0     0.6207    0.5400    0.5775       100\n",
      "           1     0.3962    0.4200    0.4078       100\n",
      "           2     0.3913    0.3600    0.3750       100\n",
      "           3     0.4957    0.5700    0.5302       100\n",
      "\n",
      "    accuracy                         0.4725       400\n",
      "   macro avg     0.4760    0.4725    0.4726       400\n",
      "weighted avg     0.4760    0.4725    0.4726       400\n",
      "\n",
      "\n",
      "--- Cross-Validation Results (5-Fold) ---\n",
      "Mean Accuracy: 0.4705 ± 0.0048\n",
      "Mean Precision (macro): 0.4624 ± 0.0092\n",
      "Mean Recall (macro): 0.4705 ± 0.0048\n"
     ]
    }
   ],
   "source": [
    "#BatchNormalization and Dropout added.\n",
    "import pandas as pd\n",
    "import numpy as np\n",
    "from sklearn.model_selection import StratifiedKFold\n",
    "from sklearn.preprocessing import StandardScaler\n",
    "from sklearn.metrics import accuracy_score, classification_report, precision_score, recall_score\n",
    "from tensorflow.keras.models import Sequential\n",
    "from tensorflow.keras.layers import Dense, Conv1D, GlobalMaxPooling1D, Dropout, BatchNormalization\n",
    "from tensorflow.keras.utils import to_categorical\n",
    "from tensorflow.keras.optimizers import Adam\n",
    "from tensorflow.keras.backend import clear_session\n",
    "\n",
    "df = pd.read_csv(\"train.csv\")\n",
    "X = df.drop(columns=[\"price_range\"]).values\n",
    "y = df[\"price_range\"].values\n",
    "\n",
    "scaler = StandardScaler()\n",
    "X_scaled = scaler.fit_transform(X)\n",
    "X_scaled = X_scaled.reshape((X_scaled.shape[0], X_scaled.shape[1], 1))\n",
    "y_cat = to_categorical(y)\n",
    "\n",
    "kfold = StratifiedKFold(n_splits=5, shuffle=True, random_state=42)\n",
    "\n",
    "accuracies = []\n",
    "precisions = []\n",
    "recalls = []\n",
    "\n",
    "fold = 1\n",
    "for train_idx, test_idx in kfold.split(X_scaled, y):\n",
    "    print(f\"\\n--- Fold {fold} ---\")\n",
    "\n",
    "    X_train, X_test = X_scaled[train_idx], X_scaled[test_idx]\n",
    "    y_train, y_test = y_cat[train_idx], y_cat[test_idx]\n",
    "    y_true = y[test_idx]\n",
    "\n",
    "    clear_session()\n",
    "\n",
    "    model = Sequential([\n",
    "        Conv1D(128, kernel_size=5, activation='relu', input_shape=(X_scaled.shape[1], 1)),\n",
    "        BatchNormalization(),\n",
    "        Dropout(0.3),\n",
    "\n",
    "        Conv1D(64, kernel_size=3, activation='relu'),\n",
    "        BatchNormalization(),\n",
    "        Dropout(0.3),\n",
    "\n",
    "        Conv1D(32, kernel_size=3, activation='relu'),\n",
    "        GlobalMaxPooling1D(),\n",
    "        \n",
    "        Dense(64, activation='relu'),\n",
    "        Dropout(0.3),\n",
    "        Dense(4, activation='softmax')\n",
    "    ])\n",
    "\n",
    "    model.compile(optimizer=Adam(learning_rate=0.0005),\n",
    "                  loss='categorical_crossentropy',\n",
    "                  metrics=['accuracy'])\n",
    "\n",
    "    model.fit(X_train, y_train, epochs=30, batch_size=16, verbose=0)\n",
    "\n",
    "    y_pred_probs = model.predict(X_test)\n",
    "    y_pred = np.argmax(y_pred_probs, axis=1)\n",
    "\n",
    "    acc = accuracy_score(y_true, y_pred)\n",
    "    prec = precision_score(y_true, y_pred, average='macro')\n",
    "    rec = recall_score(y_true, y_pred, average='macro')\n",
    "\n",
    "    print(f\"Accuracy: {acc:.4f} | Precision: {prec:.4f} | Recall: {rec:.4f}\")\n",
    "    print(classification_report(y_true, y_pred, digits=4))\n",
    "\n",
    "    accuracies.append(acc)\n",
    "    precisions.append(prec)\n",
    "    recalls.append(rec)\n",
    "    fold += 1\n",
    "\n",
    "print(\"\\n--- Cross-Validation Results (5-Fold) ---\")\n",
    "print(f\"Mean Accuracy: {np.mean(accuracies):.4f} ± {np.std(accuracies):.4f}\")\n",
    "print(f\"Mean Precision (macro): {np.mean(precisions):.4f} ± {np.std(precisions):.4f}\")\n",
    "print(f\"Mean Recall (macro): {np.mean(recalls):.4f} ± {np.std(recalls):.4f}\")"
   ]
  }
 ],
 "metadata": {
  "jupytext": {
   "cell_metadata_filter": "-all",
   "main_language": "python",
   "notebook_metadata_filter": "-all"
  },
  "kernelspec": {
   "display_name": "Python 3",
   "language": "python",
   "name": "python3"
  },
  "language_info": {
   "codemirror_mode": {
    "name": "ipython",
    "version": 3
   },
   "file_extension": ".py",
   "mimetype": "text/x-python",
   "name": "python",
   "nbconvert_exporter": "python",
   "pygments_lexer": "ipython3",
   "version": "3.10.0"
  }
 },
 "nbformat": 4,
 "nbformat_minor": 5
}
