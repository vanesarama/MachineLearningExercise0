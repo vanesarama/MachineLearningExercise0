{
 "cells": [
  {
   "cell_type": "markdown",
   "id": "a7df9c61",
   "metadata": {},
   "source": [
    "# EDA for Recipe Reviews Dataset\n",
    "This notebook contains a brief exploratory data analysis focusing on the target variable (`stars`) and the most important input feature (`user_reputation`)."
   ]
  },
  {
   "cell_type": "code",
   "execution_count": null,
   "id": "3b1ef37d",
   "metadata": {},
   "outputs": [],
   "source": [
    "import pandas as pd\n",
    "import matplotlib.pyplot as plt\n",
    "import seaborn as sns"
   ]
  },
  {
   "cell_type": "code",
   "execution_count": null,
   "id": "8a3a1476",
   "metadata": {},
   "outputs": [],
   "source": [
    "# Load dataset\n",
    "df = pd.read_csv(\"Recipe Reviews and User Feedback Dataset.csv\")"
   ]
  },
  {
   "cell_type": "code",
   "execution_count": null,
   "id": "292a9034",
   "metadata": {},
   "outputs": [],
   "source": [
    "# Set style\n",
    "sns.set(style=\"whitegrid\")"
   ]
  },
  {
   "cell_type": "code",
   "execution_count": null,
   "id": "6c4a8ca6",
   "metadata": {},
   "outputs": [],
   "source": [
    "# 🎯 Distribution of target variable: stars\n",
    "plt.figure(figsize=(8, 5))\n",
    "sns.countplot(x='stars', data=df)\n",
    "plt.title(\"Distribution of Star Ratings\")\n",
    "plt.xlabel(\"Stars\")\n",
    "plt.ylabel(\"Frequency\")\n",
    "plt.tight_layout()\n",
    "plt.savefig(\"stars_distribution.png\")\n",
    "plt.show()"
   ]
  },
  {
   "cell_type": "code",
   "execution_count": null,
   "id": "c645a43f",
   "metadata": {},
   "outputs": [],
   "source": [
    "# ⭐ Boxplot: user_reputation vs stars\n",
    "plt.figure(figsize=(8, 5))\n",
    "sns.boxplot(x='stars', y='user_reputation', data=df)\n",
    "plt.title(\"User Reputation by Star Ratings\")\n",
    "plt.xlabel(\"Stars\")\n",
    "plt.ylabel(\"User Reputation\")\n",
    "plt.tight_layout()\n",
    "plt.savefig(\"reputation_vs_stars.png\")\n",
    "plt.show()"
   ]
  }
 ],
 "metadata": {},
 "nbformat": 4,
 "nbformat_minor": 5
}